{
 "cells": [
  {
   "cell_type": "code",
   "execution_count": null,
   "id": "5ac10f87",
   "metadata": {},
   "outputs": [],
   "source": [
    "from obspy.io.segy.core import _read_segy\n",
    "\n",
    "import os\n",
    "\n",
    "source = r\"C:\\Users\\sofia\\Documents\\4th Year Project\\Antarctica data SEGY\"\n",
    "target = r\"C:\\Users\\sofia\\Documents\\4th Year Project\\Antarctica data MiSEED\"\n",
    "\n",
    "def convert_file(file):\n",
    "    if file.endswith(\".segy\"):\n",
    "        print(f\"converting {file}\")\n",
    "\n",
    "        try:\n",
    "            relative_dir, target_file = os.path.split(file)\n",
    "            target_dir = os.path.join(target, relative_dir)\n",
    "            os.makedirs(target_dir, exist_ok=True)\n",
    "\n",
    "            converted_name = target_file.removesuffix(\"segy\") + \"mseed\"\n",
    "            converted_path = os.path.join(target_dir, converted_name)\n",
    "\n",
    "            content = _read_segy(os.path.join(source, file))\n",
    "            content = content.write(converted_path, format=\"mseed\")\n",
    "\n",
    "\n",
    "        except Exception as error:\n",
    "            print(f\"failed to convert {file}: {error}\")\n",
    "\n",
    "\n",
    "def convert(dir_or_file=\"\"):\n",
    "    full_path = os.path.join(source, dir_or_file)\n",
    "\n",
    "    if os.path.isdir(full_path):\n",
    "        for child in os.listdir(full_path):\n",
    "            convert(os.path.join(dir_or_file, child))\n",
    "    else:\n",
    "        convert_file(dir_or_file)\n",
    "\n",
    "convert()\n"
   ]
  },
  {
   "cell_type": "code",
   "execution_count": null,
   "id": "06bbadea",
   "metadata": {},
   "outputs": [],
   "source": [
    "import glob, os\n",
    "from obspy import read\n",
    "\n",
    "\n",
    "mseed_data_temp = os.path.join(r\"C:\\Users\\sofia\\Documents\\4th Year Project\\Antarctica data MiSEED\\*\\*\\*\\*.mseed\")\n",
    "mseed_data = glob.glob(mseed_data_temp)\n",
    "#print(mseed_data)\n",
    "for i, trdata in enumerate(mseed_data):\n",
    "    #print(i, trdata)\n",
    "    directory, filename = os.path.split(trdata)\n",
    "    directory2, date = os.path.split(directory)\n",
    "    directory3, node = os.path.split(directory2)\n",
    "    directory4, location = os.path.split(directory3)\n",
    "    directory5, MiSEED = os.path.split(directory4)\n",
    "    print(f\"Creating merged file for {location}, {node}, {date}\")\n",
    "    st = read(trdata)\n",
    "    mer = st.merge(method=1, interpolation_samples=-1, fill_value='interpolate')\n",
    "    path_to_merged = os.path.join(directory5, \"Antarctica data Mer\", location, node, date, \"mer.mseed\")\n",
    "    mer.write(path_to_merged, format=\"mseed\")"
   ]
  }
 ],
 "metadata": {
  "kernelspec": {
   "display_name": "Python 3 (ipykernel)",
   "language": "python",
   "name": "python3"
  },
  "language_info": {
   "codemirror_mode": {
    "name": "ipython",
    "version": 3
   },
   "file_extension": ".py",
   "mimetype": "text/x-python",
   "name": "python",
   "nbconvert_exporter": "python",
   "pygments_lexer": "ipython3",
   "version": "3.10.5"
  }
 },
 "nbformat": 4,
 "nbformat_minor": 5
}
